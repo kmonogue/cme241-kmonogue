{
 "cells": [
  {
   "cell_type": "markdown",
   "metadata": {},
   "source": [
    "# Utility"
   ]
  },
  {
   "cell_type": "markdown",
   "metadata": {},
   "source": [
    "Utility is a vital concept for many of the maximization problems we will be approaching in the setting of finance. Of course, the basic economic definition of utility is the numerical value provided to the user of a utility function for some given input level. In our setting, we will often be converting money ($) to utility. This will help us to capture concepts that exist in the real world of our problems, such as risk-aversion. Largely, we will be working with concave utility functions - the marginal value of money decreases as our total amount of money increases. Intuitively, this causes us to be risk averse - losing money hurts more than gaining money, and we definitely want to avoid low nominal numbers of money."
   ]
  },
  {
   "cell_type": "markdown",
   "metadata": {},
   "source": [
    "## Certainty Equivalent Value"
   ]
  },
  {
   "cell_type": "markdown",
   "metadata": {},
   "source": [
    "Defined as the certain value at which we would be indifferent to an uncertain outcome corresponding to a particular game/set of outcomes, given our utility function. Mathematically\n",
    "\n",
    "$$\n",
    "x_{ce} = U^{-1}(E[U(x)]) \n",
    "$$"
   ]
  },
  {
   "cell_type": "markdown",
   "metadata": {},
   "source": [
    "This says that it is the value at which the expected value of our utility function is obtained. If our utility functoin were flat, this would simply be the expected value of our variable - or the outcomes. For a coinflip worth $100, this would be 50. But with an example concave utility function, \n",
    "\n",
    "$$\n",
    "U(100) = 500 \\\\\n",
    "U(0) = 0 \\\\\n",
    "E(U) = 250 \\\\\n",
    "U(49) = 250 \\\\\n",
    "x_{ce} = 49\n",
    "$$\n",
    "In this case, we would be indifferent to playing the coin-flip or receiving a certain $49."
   ]
  },
  {
   "cell_type": "markdown",
   "metadata": {},
   "source": [
    "## Risk Premium"
   ]
  },
  {
   "cell_type": "markdown",
   "metadata": {},
   "source": [
    "In general, the amount we are willing to sacrifice for certainty or must be paid for uncertainty."
   ]
  },
  {
   "cell_type": "markdown",
   "metadata": {},
   "source": [
    "### Absolute Risk Premium\n",
    "Difference between expected outcome and certainty equivalent value. \n",
    "\n",
    "$$ \\pi_{a} = E[x] - x_{ce} $$\n",
    "\n",
    "### Relative Risk Premium\n",
    "Same thing but relative to overall value.\n",
    "\n",
    "$$ \\pi_{r} = \\frac{E[x] - x_{ce}}{E[x]} = 1 - \\frac{x_{ce}}{E[x]}$$"
   ]
  },
  {
   "cell_type": "markdown",
   "metadata": {},
   "source": [
    "## Calculating Risk Premium\n",
    "Take $\\mu$ as $E[x]$ and $\\sigma^2$ as $Var[X]$. We want a way to calculate the risk premium for a given utility function. We start by Taylor expanding the utility function around the mean up to the quadratic term. This is simply rewriting the utility function as a truncated expansion.\n",
    "\n",
    "$$U(x) = U(\\mu) + U'(\\mu) \\cdot (x - \\mu) + \\frac{1}{2} U''(\\mu) \\cdot (x - \\mu)^2 $$"
   ]
  },
  {
   "cell_type": "markdown",
   "metadata": {},
   "source": [
    "We do this so that we can take the expectation of the utility function in a meaningful way. Then, since we know $E[U(x)] = U(x_{ce})$, we can solve for how $\\mu$ and $x_{ce}$ are related.\n",
    "\n",
    "$$ \n",
    "\\begin{align}\n",
    "E[U(x)] & = E[U(\\mu)] + E[U'(\\mu) \\cdot (x - \\mu)] + E[\\frac{1}{2} U''(\\mu) \\cdot (x - \\mu)^2] \\\\\n",
    "E[U(x)] & = U(\\mu) + 0 + \\frac{1}{2} U''(\\mu) \\cdot \\sigma^2 \\\\\n",
    "\\end{align}\n",
    "$$\n",
    "\n",
    "$$\n",
    "\\begin{align}\n",
    "U(x_{ce}) & = U(\\mu) + U'(\\mu) \\cdot (x_{ce} - \\mu) \\\\\\\\\n",
    "U(x_{ce}) & = E[U(x)] \\\\\n",
    "U(\\mu) + U'(\\mu) \\cdot (x_{ce} - \\mu) & = U(\\mu) + \\frac{1}{2} U''(\\mu) \\cdot \\sigma^2 \\\\\n",
    "\\pi_{a} = \\mu - x_{ce} & = - \\frac{1}{2} \\cdot \\frac{U''(\\mu)}{U'(\\mu)} \\cdot \\sigma^2 \\\\\n",
    "\\end{align}\n",
    "$$"
   ]
  },
  {
   "cell_type": "markdown",
   "metadata": {},
   "source": [
    "We can extend this to relative risk premium\n",
    "\n",
    "$$\n",
    "\\begin{align}\n",
    "\\pi_{r} & = \\frac{\\pi_a}{\\mu} \\\\\n",
    "& = - \\frac{1}{2} \\cdot \\frac{U''(\\mu)}{U'(\\mu)} \\cdot \\frac{\\sigma^2}{\\mu} \\\\\n",
    "& = - \\frac{1}{2} \\cdot \\frac{U''(\\mu) \\cdot \\mu}{U'(\\mu)} \\cdot \\frac{\\sigma^2}{\\mu^2} \\\\\n",
    "& = - \\frac{1}{2} \\cdot \\frac{U''(\\mu) \\cdot x}{U'(\\mu)} \\cdot \\sigma^{2}_{\\frac{x}{\\mu}}\n",
    "\\end{align}\n",
    "$$"
   ]
  },
  {
   "cell_type": "markdown",
   "metadata": {},
   "source": [
    "We've written it this way to show that it is related to the normalized variance $\\sigma^{2}_{\\frac{x}{\\mu}}$. \n",
    "\n",
    "Notice that both functions have a component unrelated to the variance of x. We define these as the **Absolute Risk Aversion (A(x))** and **Relative Risk Aversion R(x)** respectively, which are measures of our risk aversion defined by the utility function.\n",
    "\n",
    "$$\n",
    "\\begin{align}\n",
    "A(x) & = - \\frac{U''(\\mu)}{U'(\\mu)} \\\\\n",
    "R(x) & = - \\frac{U''(\\mu) \\cdot x}{U'(\\mu)} \\\\\n",
    "R(\\mu) & = - \\frac{U''(\\mu) \\cdot \\mu}{U'(\\mu)}\n",
    "\\end{align}\n",
    "$$"
   ]
  },
  {
   "cell_type": "markdown",
   "metadata": {},
   "source": [
    "## Constant Absolute Risk Aversion"
   ]
  },
  {
   "cell_type": "markdown",
   "metadata": {},
   "source": [
    "Using the above defined metrics, we can evaluate some utility functions and the risk aversions they yield. Consider the utility function \n",
    "\n",
    "$$\n",
    "U(x) = \\frac{1-e^{-ax}}{a}\n",
    "$$\n",
    "\n",
    "which is a negative scaled exponential function. The absolute risk aversion is then\n",
    "\n",
    "$$\n",
    "\\begin{align}\n",
    "U'(x) & = \\frac{1}{a} + e^{-ax} \\\\\n",
    "U''(x) & = \\frac{1}{a} - ae^{-ax} \\\\\n",
    "A(x) & = - \\frac{\\frac{1}{a} - ae^{-ax}}{\\frac{1}{a} + e^{-ax}} \\\\\n",
    "A(x) & = a\n",
    "\\end{align}\n",
    "$$"
   ]
  },
  {
   "cell_type": "markdown",
   "metadata": {},
   "source": [
    "It is clear that the absolute risk aversion is a constant factor a, which is simply a parameter to our utility function. From our above formula for the absolute risk premium, we have \n",
    "\n",
    "$$\n",
    "\\begin{align}\n",
    "\\pi_{a} & = - \\frac{1}{2} \\cdot \\frac{U''(\\mu)}{U'(\\mu)} \\cdot \\sigma^2 \\\\\n",
    "\\pi_{a} & = \\frac{1}{2} \\cdot a \\cdot \\sigma^2 \\\\\n",
    "\\pi_{a} & = \\mu - x_{ce} \\\\\n",
    "x_{ce} & = \\mu - \\frac{a \\sigma^2}{2}\n",
    "\\end{align}\n",
    "$$"
   ]
  },
  {
   "cell_type": "markdown",
   "metadata": {},
   "source": [
    "Our earliest intuition for maximization problems is to maximize our expected value. However, with a utility function, we want to maximize our expected utility. Our expected utility is obtained at exactly our certainty equivalent point, so to maximize in terms of variables we can easily measure, we instead maximize our certainty equivalent value as described above."
   ]
  },
  {
   "cell_type": "markdown",
   "metadata": {},
   "source": [
    "### Portfolio Application"
   ]
  },
  {
   "cell_type": "markdown",
   "metadata": {},
   "source": [
    "We can use the above result to solve a simple portfolio allocation problem. Consider the case when we have two assets - a risk free asset and an asset with return normally distributed as $x \\sim N(\\mu, \\sigma^2)$. We want to maximize our utility when given the option to invest some amount $\\pi$ in the uncertain parameter. First, observe that our total return is also normally distributed, and so is our wealth at the end. Consider $W_0 = 1$.\n",
    "\n",
    "$$\n",
    "\\begin{align}\n",
    "W_T & = 1 + (1 - \\pi) \\cdot r_f + \\pi x \\\\\n",
    "E[W_T] & = 1 + (1 - \\pi) \\cdot r_f + \\pi \\mu \\\\\n",
    "Var[W_T] & = 0 + 0 + Var[\\pi x]  \\\\\n",
    "Var[W_T] & = \\pi^2 \\sigma^2 \\\\\n",
    "W_T & \\sim N(1 + (1 - \\pi) \\cdot r_f + \\pi \\mu, \\pi^2 \\sigma^2)\n",
    "\\end{align}\n",
    "$$\n",
    "\n",
    "From above, we know the certainty equivalent of a normal distribution. Thus, we want to maximize the certainty equivalent value \n",
    "\n",
    "$$\n",
    "\\begin{align}\n",
    "x_{ce} & = \\mu - \\frac{a \\sigma^2}{2} \\\\\n",
    "x_{ce} & = 1 + (1 - \\pi) \\cdot r_f + \\pi \\mu - \\frac{a \\sigma^2 \\pi^2}{2} \n",
    "\\end{align}\n",
    "$$"
   ]
  },
  {
   "cell_type": "markdown",
   "metadata": {},
   "source": [
    "Since our only decision variable is $\\pi$, we can maximize by differentiating with respect to $\\pi$.\n",
    "\n",
    "$$\n",
    "\\begin{align}\n",
    "\\frac{dx_{ce}}{d \\pi} & = -r_f + \\mu - a \\sigma^2 \\pi \\\\\n",
    "\\pi & = \\frac{\\mu - r_f}{a \\sigma^2}\n",
    "\\end{align}\n",
    "$$"
   ]
  },
  {
   "cell_type": "code",
   "execution_count": null,
   "metadata": {},
   "outputs": [],
   "source": []
  }
 ],
 "metadata": {
  "kernelspec": {
   "display_name": "Python 3",
   "language": "python",
   "name": "python3"
  },
  "language_info": {
   "codemirror_mode": {
    "name": "ipython",
    "version": 3
   },
   "file_extension": ".py",
   "mimetype": "text/x-python",
   "name": "python",
   "nbconvert_exporter": "python",
   "pygments_lexer": "ipython3",
   "version": "3.6.8"
  }
 },
 "nbformat": 4,
 "nbformat_minor": 2
}
